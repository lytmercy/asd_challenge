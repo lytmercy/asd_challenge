{
 "cells": [
  {
   "cell_type": "markdown",
   "source": [
    "# Dataset Analysis\n",
    "In this Jupyter Notebook, we analyse dataset from Airbus Ship Detection Challenge.\n",
    "Main task in this challenge it's \"find ships on satellite images as quickly as possible\""
   ],
   "metadata": {
    "collapsed": false,
    "pycharm": {
     "name": "#%% md\n"
    }
   }
  },
  {
   "cell_type": "code",
   "execution_count": null,
   "metadata": {
    "collapsed": true,
    "pycharm": {
     "name": "#%%\n"
    }
   },
   "outputs": [],
   "source": [
    "# Import requirement libraries\n",
    "import tensorflow as tf\n",
    "import pandas as pd\n",
    "import matplotlib.pyplot as plt\n",
    "import matplotlib.image as mpimg\n",
    "\n",
    "import random\n",
    "import os\n",
    "\n",
    "# Finding how many images we have\n",
    "num_train_images = len(os.listdir('dataset/train_v2'))\n",
    "num_test_images = len(os.listdir('dataset/test_v2'))\n",
    "print(f'Number of images for training: {num_train_images}')\n",
    "print(f'Number of images for testing: {num_test_images}')"
   ]
  },
  {
   "cell_type": "code",
   "execution_count": null,
   "outputs": [],
   "source": [
    "# Make function for viewing a random image\n",
    "def view_random_image(target_dir, target_type):\n",
    "    # Setup target directory\n",
    "    target_folder = target_dir+target_type\n",
    "\n",
    "    # Get a random image path\n",
    "    random_image = random.sample(os.listdir(target_folder), 1)\n",
    "\n",
    "    # Read the image and plot it\n",
    "    img = mpimg.imread(target_folder + \"\\\\\" + random_image[0])\n",
    "    plt.imshow(img)\n",
    "    plt.title(random_image)\n",
    "    plt.axis('off')\n",
    "\n",
    "    # show the shape of the image\n",
    "    print(f\"Image shape: {img.shape}\")\n",
    "\n",
    "    # returning image\n",
    "    return img"
   ],
   "metadata": {
    "collapsed": false,
    "pycharm": {
     "name": "#%%\n"
    }
   }
  },
  {
   "cell_type": "code",
   "execution_count": null,
   "outputs": [],
   "source": [
    "# View a random image from the training dataset\n",
    "img = view_random_image(target_dir='dataset\\\\',\n",
    "                        target_type='train_v2')"
   ],
   "metadata": {
    "collapsed": false,
    "pycharm": {
     "name": "#%%\n"
    }
   }
  },
  {
   "cell_type": "code",
   "execution_count": null,
   "outputs": [],
   "source": [
    "# View the tensor of image\n",
    "img"
   ],
   "metadata": {
    "collapsed": false,
    "pycharm": {
     "name": "#%%\n"
    }
   }
  },
  {
   "cell_type": "code",
   "execution_count": null,
   "outputs": [],
   "source": [
    "# View the image shape\n",
    "img.shape  # returns ( width, height, colour channels)"
   ],
   "metadata": {
    "collapsed": false,
    "pycharm": {
     "name": "#%%\n"
    }
   }
  },
  {
   "cell_type": "code",
   "execution_count": null,
   "outputs": [],
   "source": [
    "# Get all the pixel values between 0 & 1 (normalization)\n",
    "img/255."
   ],
   "metadata": {
    "collapsed": false,
    "pycharm": {
     "name": "#%%\n"
    }
   }
  },
  {
   "cell_type": "code",
   "execution_count": null,
   "outputs": [],
   "source": [
    "# # Check the *.csv files to use that later\n",
    "# load train_ship_segmentations_v2.csv to pandas DataFrame\n",
    "train_ground_truth = pd.read_csv(\"dataset\\\\train_ship_segmentations_v2.csv\")\n",
    "print(train_ground_truth.head())\n",
    "num_masks = train_ground_truth.shape[0]\n",
    "print(num_masks)"
   ],
   "metadata": {
    "collapsed": false,
    "pycharm": {
     "name": "#%%\n"
    }
   }
  },
  {
   "cell_type": "code",
   "execution_count": null,
   "outputs": [],
   "source": [
    "# load submission.csv to pandas DataFrame\n",
    "submission = pd.read_csv(\"dataset\\\\sample_submission_v2.csv\")\n",
    "submission.head()"
   ],
   "metadata": {
    "collapsed": false,
    "pycharm": {
     "name": "#%%\n"
    }
   }
  },
  {
   "cell_type": "code",
   "execution_count": null,
   "outputs": [],
   "source": [
    "train_ground_truth.ImageId[2]"
   ],
   "metadata": {
    "collapsed": false,
    "pycharm": {
     "name": "#%%\n"
    }
   }
  },
  {
   "cell_type": "code",
   "execution_count": null,
   "outputs": [],
   "source": [
    "train_ground_truth.EncodedPixels[2]"
   ],
   "metadata": {
    "collapsed": false,
    "pycharm": {
     "name": "#%%\n"
    }
   }
  },
  {
   "cell_type": "code",
   "execution_count": null,
   "outputs": [],
   "source": [
    "rle_tensor = tf.strings.to_number(tf.strings.split(train_ground_truth.EncodedPixels[2]), tf.int64)\n",
    "rle_tensor"
   ],
   "metadata": {
    "collapsed": false,
    "pycharm": {
     "name": "#%%\n"
    }
   }
  },
  {
   "cell_type": "code",
   "execution_count": null,
   "outputs": [],
   "source": [
    "rle_tensor[::2]"
   ],
   "metadata": {
    "collapsed": false,
    "pycharm": {
     "name": "#%%\n"
    }
   }
  },
  {
   "cell_type": "code",
   "execution_count": null,
   "outputs": [],
   "source": [
    "rle_tensor[1::2]"
   ],
   "metadata": {
    "collapsed": false,
    "pycharm": {
     "name": "#%%\n"
    }
   }
  },
  {
   "cell_type": "code",
   "execution_count": null,
   "outputs": [],
   "source": [
    "# create function for decoding run-length mask from \"train_ship_segmentations_v2.csv\"\n",
    "def tf_rle_decode(rle_string, shape=(768, 768)):\n",
    "    \"\"\"\n",
    "    Function for decoding run-length encoding mask from string.\n",
    "\n",
    "    :param rle_string: run-length string from csv file\n",
    "    :param shape: shape of output image\n",
    "    :return: tensor as image mask\n",
    "    \"\"\"\n",
    "    shape_tensor = tf.convert_to_tensor(shape, tf.int64)\n",
    "    size = tf.math.reduce_prod(shape)\n",
    "\n",
    "    rle_tensor = tf.strings.split(rle_string)\n",
    "    rle_tensor = tf.strings.to_number(rle_tensor, tf.int64)\n",
    "\n",
    "    starts = rle_tensor[::2] - 1\n",
    "    lengths = rle_tensor[1::2]\n",
    "\n",
    "    # Make ones to be scattered\n",
    "    total_ones = tf.reduce_sum(lengths)\n",
    "    ones = tf.ones([total_ones], tf.uint8)\n",
    "\n",
    "    # Make scattering indices\n",
    "    ones_range = tf.range(total_ones)\n",
    "    lens_cumsum = tf.math.cumsum(lengths)\n",
    "    rle_ssorted = tf.searchsorted(lens_cumsum, ones_range, 'right')\n",
    "    idx = ones_range + tf.gather(starts - tf.pad(lens_cumsum[:-1], [(1, 0)]), rle_ssorted)\n",
    "\n",
    "    # Scatter ones into flattened mask\n",
    "    mask_flat = tf.scatter_nd(tf.expand_dims(idx, 1), ones, [size])\n",
    "\n",
    "    # Reshape into mask\n",
    "    return tf.reshape(mask_flat, shape_tensor)"
   ],
   "metadata": {
    "collapsed": false,
    "pycharm": {
     "name": "#%%\n"
    }
   }
  },
  {
   "cell_type": "code",
   "execution_count": null,
   "outputs": [],
   "source": [
    "# Set image id that we check with his mask\n",
    "image_id = '0005d01c8.jpg'\n",
    "\n",
    "# Read image from directory\n",
    "image = mpimg.imread('dataset\\\\train_v2\\\\' + image_id)\n",
    "# make a list with the masks that image_id match\n",
    "image_masks = train_ground_truth.loc[train_ground_truth['ImageId'] == image_id, 'EncodedPixels'].tolist()\n",
    "\n",
    "# Take the individual ship masks and create a single mask array for all ships\n",
    "all_masks = tf.zeros((768, 768), tf.uint8)\n",
    "for mask in image_masks:\n",
    "    all_masks += tf.transpose(tf_rle_decode(mask))\n",
    "\n",
    "# Create plot with 3 different sight of image (with masks)\n",
    "fig, axarr = plt.subplots(1, 3, figsize=(15, 40))\n",
    "axarr[0].axis('off')\n",
    "axarr[1].axis('off')\n",
    "axarr[2].axis('off')\n",
    "axarr[0].imshow(image)\n",
    "axarr[1].imshow(all_masks)\n",
    "axarr[2].imshow(image)\n",
    "axarr[2].imshow(all_masks, alpha=0.4)\n",
    "plt.tight_layout(h_pad=0.1, w_pad=0.1)\n",
    "plt.show()"
   ],
   "metadata": {
    "collapsed": false,
    "pycharm": {
     "name": "#%%\n"
    }
   }
  },
  {
   "cell_type": "code",
   "execution_count": null,
   "outputs": [],
   "source": [],
   "metadata": {
    "collapsed": false,
    "pycharm": {
     "name": "#%%\n"
    }
   }
  }
 ],
 "metadata": {
  "kernelspec": {
   "display_name": "Python 3",
   "language": "python",
   "name": "python3"
  },
  "language_info": {
   "codemirror_mode": {
    "name": "ipython",
    "version": 2
   },
   "file_extension": ".py",
   "mimetype": "text/x-python",
   "name": "python",
   "nbconvert_exporter": "python",
   "pygments_lexer": "ipython2",
   "version": "2.7.6"
  }
 },
 "nbformat": 4,
 "nbformat_minor": 0
}
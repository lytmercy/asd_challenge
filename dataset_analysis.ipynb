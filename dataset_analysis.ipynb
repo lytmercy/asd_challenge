{
 "cells": [
  {
   "cell_type": "markdown",
   "source": [
    "# Dataset Analysis\n",
    "In this Jupyter Notebook, we analyse dataset from Airbus Ship Detection Challenge.\n",
    "Main task in this challenge it's \"find ships on satellite images as quickly as possible\""
   ],
   "metadata": {
    "collapsed": false,
    "pycharm": {
     "name": "#%% md\n"
    }
   }
  },
  {
   "cell_type": "code",
   "execution_count": null,
   "metadata": {
    "collapsed": true,
    "pycharm": {
     "name": "#%%\n"
    }
   },
   "outputs": [],
   "source": [
    "import os\n",
    "\n",
    "# Finding how many images we have\n",
    "num_train_images = len(os.listdir('dataset/train_v2'))\n",
    "num_test_images = len(os.listdir('dataset/test_v2'))\n",
    "print(f'Number of images for training: {num_train_images}')\n",
    "print(f'Number of images for testing: {num_test_images}')"
   ]
  },
  {
   "cell_type": "code",
   "execution_count": null,
   "outputs": [],
   "source": [
    "# Make function for viewing a random image\n",
    "import matplotlib.pyplot as plt\n",
    "import matplotlib.image as mpimg\n",
    "import random\n",
    "\n",
    "def view_random_image(target_dir, target_type):\n",
    "    # Setup target directory\n",
    "    target_folder = target_dir+target_type\n",
    "\n",
    "    # Get a random image path\n",
    "    random_image = random.sample(os.listdir(target_folder), 1)\n",
    "\n",
    "    # Read the image and plot it\n",
    "    img = mpimg.imread(target_folder + \"\\\\\" + random_image[0])\n",
    "    plt.imshow(img)\n",
    "    plt.title(random_image)\n",
    "    plt.axis('off')\n",
    "\n",
    "    # show the shape of the image\n",
    "    print(f\"Imgae shape: {img.shape}\")\n",
    "\n",
    "    # returning image\n",
    "    return img"
   ],
   "metadata": {
    "collapsed": false,
    "pycharm": {
     "name": "#%%\n"
    }
   }
  },
  {
   "cell_type": "code",
   "execution_count": null,
   "outputs": [],
   "source": [
    "# View a random image from the training dataset\n",
    "img = view_random_image(target_dir='dataset\\\\',\n",
    "                        target_type='train_v2')"
   ],
   "metadata": {
    "collapsed": false,
    "pycharm": {
     "name": "#%%\n"
    }
   }
  },
  {
   "cell_type": "code",
   "execution_count": null,
   "outputs": [],
   "source": [
    "# View the tensor of image\n",
    "img"
   ],
   "metadata": {
    "collapsed": false,
    "pycharm": {
     "name": "#%%\n"
    }
   }
  },
  {
   "cell_type": "code",
   "execution_count": null,
   "outputs": [],
   "source": [
    "# View the image shape\n",
    "img.shape  # returns ( width, height, colour channels)"
   ],
   "metadata": {
    "collapsed": false,
    "pycharm": {
     "name": "#%%\n"
    }
   }
  },
  {
   "cell_type": "code",
   "execution_count": null,
   "outputs": [],
   "source": [
    "# Get all the pixel values between 0 & 1 (normalization)\n",
    "img/255."
   ],
   "metadata": {
    "collapsed": false,
    "pycharm": {
     "name": "#%%\n"
    }
   }
  },
  {
   "cell_type": "code",
   "execution_count": 61,
   "outputs": [
    {
     "data": {
      "text/plain": "(231723, 2)"
     },
     "execution_count": 61,
     "metadata": {},
     "output_type": "execute_result"
    }
   ],
   "source": [
    "import pandas as pd\n",
    "\n",
    "# # Check the train_ship_segmentations_v2.csv file to use it later\n",
    "# load train_ship_segmentations_v2.csv to pandas DataFrame\n",
    "train_ground_truth = pd.read_csv(\"dataset\\\\train_ship_segmentations_v2.csv\")\n",
    "train_ground_truth.head()\n",
    "num_masks = train_ground_truth.shape[0]\n",
    "num_masks"
   ],
   "metadata": {
    "collapsed": false,
    "pycharm": {
     "name": "#%%\n"
    }
   }
  },
  {
   "cell_type": "code",
   "execution_count": null,
   "outputs": [],
   "source": [
    "train_ground_truth.ImageId[0]"
   ],
   "metadata": {
    "collapsed": false,
    "pycharm": {
     "name": "#%%\n"
    }
   }
  },
  {
   "cell_type": "code",
   "execution_count": null,
   "outputs": [],
   "source": [
    "train_ground_truth.ImageId[2]"
   ],
   "metadata": {
    "collapsed": false,
    "pycharm": {
     "name": "#%%\n"
    }
   }
  },
  {
   "cell_type": "code",
   "execution_count": null,
   "outputs": [],
   "source": [
    "train_ground_truth.EncodedPixels[2]"
   ],
   "metadata": {
    "collapsed": false,
    "pycharm": {
     "name": "#%%\n"
    }
   }
  },
  {
   "cell_type": "code",
   "execution_count": 57,
   "outputs": [],
   "source": [
    "import tensorflow as tf\n",
    "import matplotlib.pyplot as plt\n",
    "import numpy as np\n",
    "import cv2\n",
    "\n",
    "# create function for decoding run-length mask from \"train_ship_segmentations_v2.csv\"\n",
    "def tf_rle_decode(rle_string, shape=(256, 256)):\n",
    "    \"\"\"\n",
    "    Function for decoding run-length encoding mask from string.\n",
    "\n",
    "    :param rle_string: run-length string from csv file\n",
    "    :param shape: shape of output image\n",
    "    :return: numpy array as image mask\n",
    "    \"\"\"\n",
    "    shape = tf.convert_to_tensor(shape, tf.int64)\n",
    "    size = tf.math.reduce_prod(shape)\n",
    "\n",
    "    decoded = []\n",
    "    encoded = []\n",
    "    rle_tensor = tf.strings.split(rle_string)\n",
    "    rle_tensor = tf.strings. to_number(rle_tensor, tf.int64)\n",
    "\n",
    "    starts = rle_tensor[::2] - 1\n",
    "    lens = rle_tensor[1::2]\n",
    "\n",
    "    # Make ones to be scattered\n",
    "    total_ones = tf.reduce_sum(lens)\n",
    "    ones = tf.ones([total_ones], tf.uint8)\n",
    "\n",
    "    # Make scattering indices\n",
    "    rle_range = tf.range(total_ones)\n",
    "    lens_cum = tf.math.cumsum(lens)\n",
    "    rle_ssorted = tf.searchsorted(lens_cum, rle_range, 'right')\n",
    "    idx = rle_range + tf.gather(starts - tf.pad(lens_cum[:-1], [(1, 0)]), rle_ssorted)\n",
    "\n",
    "    # Scatter ones into flattened mask\n",
    "    mask_flat = tf.scatter_nd(tf.expand_dims(idx, 1), ones, [size])\n",
    "\n",
    "    # Reshape into mask\n",
    "    return tf.reshape(mask_flat, shape)\n",
    "\n",
    "\n",
    "    # for i in range(len(rle_array)):\n",
    "    #     if i == 0: continue\n",
    "    #     encoded.append((rle_array[i-1], rle_array[i]))\n",
    "    #\n",
    "    # encoded = np.array(encoded)\n",
    "    # for rl in encoded:\n",
    "    #     r, p = rl[0], rl[1]\n",
    "    #     decoded.extend([p]*r)\n",
    "    #\n",
    "    # dimg = np.array(decoded).reshape(shape)\n",
    "    # return dimg"
   ],
   "metadata": {
    "collapsed": false,
    "pycharm": {
     "name": "#%%\n"
    }
   }
  },
  {
   "cell_type": "code",
   "execution_count": 58,
   "outputs": [
    {
     "ename": "InvalidArgumentError",
     "evalue": "indices[0] = [264660] does not index into shape [65536] [Op:ScatterNd]",
     "output_type": "error",
     "traceback": [
      "\u001B[1;31m---------------------------------------------------------------------------\u001B[0m",
      "\u001B[1;31mInvalidArgumentError\u001B[0m                      Traceback (most recent call last)",
      "Input \u001B[1;32mIn [58]\u001B[0m, in \u001B[0;36m<cell line: 1>\u001B[1;34m()\u001B[0m\n\u001B[1;32m----> 1\u001B[0m dimg \u001B[38;5;241m=\u001B[39m \u001B[43mtf_rle_decode\u001B[49m\u001B[43m(\u001B[49m\u001B[43mtrain_ground_truth\u001B[49m\u001B[38;5;241;43m.\u001B[39;49m\u001B[43mEncodedPixels\u001B[49m\u001B[43m[\u001B[49m\u001B[38;5;241;43m2\u001B[39;49m\u001B[43m]\u001B[49m\u001B[43m,\u001B[49m\u001B[43m \u001B[49m\u001B[43m[\u001B[49m\u001B[38;5;241;43m256\u001B[39;49m\u001B[43m,\u001B[49m\u001B[43m \u001B[49m\u001B[38;5;241;43m256\u001B[39;49m\u001B[43m]\u001B[49m\u001B[43m)\u001B[49m\n\u001B[0;32m      2\u001B[0m plt\u001B[38;5;241m.\u001B[39mshow(dimg)\n",
      "Input \u001B[1;32mIn [57]\u001B[0m, in \u001B[0;36mtf_rle_decode\u001B[1;34m(rle_string, shape)\u001B[0m\n\u001B[0;32m     34\u001B[0m idx \u001B[38;5;241m=\u001B[39m rle_range \u001B[38;5;241m+\u001B[39m tf\u001B[38;5;241m.\u001B[39mgather(starts \u001B[38;5;241m-\u001B[39m tf\u001B[38;5;241m.\u001B[39mpad(lens_cum[:\u001B[38;5;241m-\u001B[39m\u001B[38;5;241m1\u001B[39m], [(\u001B[38;5;241m1\u001B[39m, \u001B[38;5;241m0\u001B[39m)]), rle_ssorted)\n\u001B[0;32m     36\u001B[0m \u001B[38;5;66;03m# Scatter ones into flattened mask\u001B[39;00m\n\u001B[1;32m---> 37\u001B[0m mask_flat \u001B[38;5;241m=\u001B[39m \u001B[43mtf\u001B[49m\u001B[38;5;241;43m.\u001B[39;49m\u001B[43mscatter_nd\u001B[49m\u001B[43m(\u001B[49m\u001B[43mtf\u001B[49m\u001B[38;5;241;43m.\u001B[39;49m\u001B[43mexpand_dims\u001B[49m\u001B[43m(\u001B[49m\u001B[43midx\u001B[49m\u001B[43m,\u001B[49m\u001B[43m \u001B[49m\u001B[38;5;241;43m1\u001B[39;49m\u001B[43m)\u001B[49m\u001B[43m,\u001B[49m\u001B[43m \u001B[49m\u001B[43mones\u001B[49m\u001B[43m,\u001B[49m\u001B[43m \u001B[49m\u001B[43m[\u001B[49m\u001B[43msize\u001B[49m\u001B[43m]\u001B[49m\u001B[43m)\u001B[49m\n\u001B[0;32m     39\u001B[0m \u001B[38;5;66;03m# Reshape into mask\u001B[39;00m\n\u001B[0;32m     40\u001B[0m \u001B[38;5;28;01mreturn\u001B[39;00m tf\u001B[38;5;241m.\u001B[39mreshape(mask_flat, shape)\n",
      "File \u001B[1;32mD:\\.main\\.code\\asd_challenge\\venv\\lib\\site-packages\\tensorflow\\python\\ops\\gen_array_ops.py:9166\u001B[0m, in \u001B[0;36mscatter_nd\u001B[1;34m(indices, updates, shape, name)\u001B[0m\n\u001B[0;32m   9164\u001B[0m   \u001B[38;5;28;01mif\u001B[39;00m _result \u001B[38;5;129;01mis\u001B[39;00m \u001B[38;5;129;01mnot\u001B[39;00m \u001B[38;5;28mNotImplemented\u001B[39m:\n\u001B[0;32m   9165\u001B[0m     \u001B[38;5;28;01mreturn\u001B[39;00m _result\n\u001B[1;32m-> 9166\u001B[0m   \u001B[38;5;28;01mreturn\u001B[39;00m \u001B[43mscatter_nd_eager_fallback\u001B[49m\u001B[43m(\u001B[49m\n\u001B[0;32m   9167\u001B[0m \u001B[43m      \u001B[49m\u001B[43mindices\u001B[49m\u001B[43m,\u001B[49m\u001B[43m \u001B[49m\u001B[43mupdates\u001B[49m\u001B[43m,\u001B[49m\u001B[43m \u001B[49m\u001B[43mshape\u001B[49m\u001B[43m,\u001B[49m\u001B[43m \u001B[49m\u001B[43mname\u001B[49m\u001B[38;5;241;43m=\u001B[39;49m\u001B[43mname\u001B[49m\u001B[43m,\u001B[49m\u001B[43m \u001B[49m\u001B[43mctx\u001B[49m\u001B[38;5;241;43m=\u001B[39;49m\u001B[43m_ctx\u001B[49m\u001B[43m)\u001B[49m\n\u001B[0;32m   9168\u001B[0m \u001B[38;5;28;01mexcept\u001B[39;00m _core\u001B[38;5;241m.\u001B[39m_SymbolicException:\n\u001B[0;32m   9169\u001B[0m   \u001B[38;5;28;01mpass\u001B[39;00m  \u001B[38;5;66;03m# Add nodes to the TensorFlow graph.\u001B[39;00m\n",
      "File \u001B[1;32mD:\\.main\\.code\\asd_challenge\\venv\\lib\\site-packages\\tensorflow\\python\\ops\\gen_array_ops.py:9215\u001B[0m, in \u001B[0;36mscatter_nd_eager_fallback\u001B[1;34m(indices, updates, shape, name, ctx)\u001B[0m\n\u001B[0;32m   9213\u001B[0m _inputs_flat \u001B[38;5;241m=\u001B[39m [indices, updates, shape]\n\u001B[0;32m   9214\u001B[0m _attrs \u001B[38;5;241m=\u001B[39m (\u001B[38;5;124m\"\u001B[39m\u001B[38;5;124mT\u001B[39m\u001B[38;5;124m\"\u001B[39m, _attr_T, \u001B[38;5;124m\"\u001B[39m\u001B[38;5;124mTindices\u001B[39m\u001B[38;5;124m\"\u001B[39m, _attr_Tindices)\n\u001B[1;32m-> 9215\u001B[0m _result \u001B[38;5;241m=\u001B[39m \u001B[43m_execute\u001B[49m\u001B[38;5;241;43m.\u001B[39;49m\u001B[43mexecute\u001B[49m\u001B[43m(\u001B[49m\u001B[38;5;124;43mb\u001B[39;49m\u001B[38;5;124;43m\"\u001B[39;49m\u001B[38;5;124;43mScatterNd\u001B[39;49m\u001B[38;5;124;43m\"\u001B[39;49m\u001B[43m,\u001B[49m\u001B[43m \u001B[49m\u001B[38;5;241;43m1\u001B[39;49m\u001B[43m,\u001B[49m\u001B[43m \u001B[49m\u001B[43minputs\u001B[49m\u001B[38;5;241;43m=\u001B[39;49m\u001B[43m_inputs_flat\u001B[49m\u001B[43m,\u001B[49m\n\u001B[0;32m   9216\u001B[0m \u001B[43m                           \u001B[49m\u001B[43mattrs\u001B[49m\u001B[38;5;241;43m=\u001B[39;49m\u001B[43m_attrs\u001B[49m\u001B[43m,\u001B[49m\u001B[43m \u001B[49m\u001B[43mctx\u001B[49m\u001B[38;5;241;43m=\u001B[39;49m\u001B[43mctx\u001B[49m\u001B[43m,\u001B[49m\u001B[43m \u001B[49m\u001B[43mname\u001B[49m\u001B[38;5;241;43m=\u001B[39;49m\u001B[43mname\u001B[49m\u001B[43m)\u001B[49m\n\u001B[0;32m   9217\u001B[0m \u001B[38;5;28;01mif\u001B[39;00m _execute\u001B[38;5;241m.\u001B[39mmust_record_gradient():\n\u001B[0;32m   9218\u001B[0m   _execute\u001B[38;5;241m.\u001B[39mrecord_gradient(\n\u001B[0;32m   9219\u001B[0m       \u001B[38;5;124m\"\u001B[39m\u001B[38;5;124mScatterNd\u001B[39m\u001B[38;5;124m\"\u001B[39m, _inputs_flat, _attrs, _result)\n",
      "File \u001B[1;32mD:\\.main\\.code\\asd_challenge\\venv\\lib\\site-packages\\tensorflow\\python\\eager\\execute.py:54\u001B[0m, in \u001B[0;36mquick_execute\u001B[1;34m(op_name, num_outputs, inputs, attrs, ctx, name)\u001B[0m\n\u001B[0;32m     52\u001B[0m \u001B[38;5;28;01mtry\u001B[39;00m:\n\u001B[0;32m     53\u001B[0m   ctx\u001B[38;5;241m.\u001B[39mensure_initialized()\n\u001B[1;32m---> 54\u001B[0m   tensors \u001B[38;5;241m=\u001B[39m \u001B[43mpywrap_tfe\u001B[49m\u001B[38;5;241;43m.\u001B[39;49m\u001B[43mTFE_Py_Execute\u001B[49m\u001B[43m(\u001B[49m\u001B[43mctx\u001B[49m\u001B[38;5;241;43m.\u001B[39;49m\u001B[43m_handle\u001B[49m\u001B[43m,\u001B[49m\u001B[43m \u001B[49m\u001B[43mdevice_name\u001B[49m\u001B[43m,\u001B[49m\u001B[43m \u001B[49m\u001B[43mop_name\u001B[49m\u001B[43m,\u001B[49m\n\u001B[0;32m     55\u001B[0m \u001B[43m                                      \u001B[49m\u001B[43minputs\u001B[49m\u001B[43m,\u001B[49m\u001B[43m \u001B[49m\u001B[43mattrs\u001B[49m\u001B[43m,\u001B[49m\u001B[43m \u001B[49m\u001B[43mnum_outputs\u001B[49m\u001B[43m)\u001B[49m\n\u001B[0;32m     56\u001B[0m \u001B[38;5;28;01mexcept\u001B[39;00m core\u001B[38;5;241m.\u001B[39m_NotOkStatusException \u001B[38;5;28;01mas\u001B[39;00m e:\n\u001B[0;32m     57\u001B[0m   \u001B[38;5;28;01mif\u001B[39;00m name \u001B[38;5;129;01mis\u001B[39;00m \u001B[38;5;129;01mnot\u001B[39;00m \u001B[38;5;28;01mNone\u001B[39;00m:\n",
      "\u001B[1;31mInvalidArgumentError\u001B[0m: indices[0] = [264660] does not index into shape [65536] [Op:ScatterNd]"
     ]
    }
   ],
   "source": [
    "dimg = tf_rle_decode(train_ground_truth.EncodedPixels[2], [256, 256])\n",
    "plt.show(dimg)"
   ],
   "metadata": {
    "collapsed": false,
    "pycharm": {
     "name": "#%%\n"
    }
   }
  },
  {
   "cell_type": "code",
   "execution_count": 42,
   "outputs": [],
   "source": [],
   "metadata": {
    "collapsed": false,
    "pycharm": {
     "name": "#%%\n"
    }
   }
  }
 ],
 "metadata": {
  "kernelspec": {
   "display_name": "Python 3",
   "language": "python",
   "name": "python3"
  },
  "language_info": {
   "codemirror_mode": {
    "name": "ipython",
    "version": 2
   },
   "file_extension": ".py",
   "mimetype": "text/x-python",
   "name": "python",
   "nbconvert_exporter": "python",
   "pygments_lexer": "ipython2",
   "version": "2.7.6"
  }
 },
 "nbformat": 4,
 "nbformat_minor": 0
}